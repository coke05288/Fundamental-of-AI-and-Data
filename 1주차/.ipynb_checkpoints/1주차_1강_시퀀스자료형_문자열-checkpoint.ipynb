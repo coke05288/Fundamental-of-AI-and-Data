{
 "cells": [
  {
   "cell_type": "markdown",
   "metadata": {},
   "source": [
    "# 시퀀스 자료형(Sequence Types)\n",
    "\n",
    "연속적으로 이어진 여러 값을 저장하는 기법.\n",
    "\n",
    "1. 문자열\n",
    "```python\n",
    "a = \"Hello\"\n",
    "```\n",
    "\n",
    "2. 리스트\n",
    "```python\n",
    "a = [0, 10, 20, 30, 40, 50]\n",
    "```\n",
    "\n",
    "3. 튜플\n",
    "```python\n",
    "a = (38, 42, 13, 19, 62)\n",
    "```"
   ]
  },
  {
   "cell_type": "markdown",
   "metadata": {},
   "source": [
    "---\n",
    "## 1. 문자열"
   ]
  },
  {
   "cell_type": "code",
   "execution_count": 1,
   "metadata": {},
   "outputs": [
    {
     "name": "stdout",
     "output_type": "stream",
     "text": [
      "String Test 1\n",
      "String Test 2\n",
      "\n",
      "<class 'str'>\n",
      "<class 'str'>\n",
      "\n",
      "A\n",
      "B\n",
      "C\n",
      "\n",
      "H\n",
      "Hello\n",
      "ll\n",
      "\n",
      "Hello\n",
      "ell\n"
     ]
    }
   ],
   "source": [
    "# 문자열 생성\n",
    "string1 = \"String Test 1\"\n",
    "string2 = 'String Test 2'\n",
    "\n",
    "print(string1)\n",
    "print(string2)\n",
    "\n",
    "print()\n",
    "\n",
    "# 변수 타입 확인\n",
    "print(type(string1))\n",
    "print(type(string2))\n",
    "\n",
    "print()\n",
    "\n",
    "# 문자열의 인덱스\n",
    "a = \"ABC\"\n",
    "print(a[0])\n",
    "print(a[1])\n",
    "print(a[2])\n",
    "\n",
    "print()\n",
    "\n",
    "# 문자열에 두개의 인덱스로 범위 지정 -> 문자열 슬라이싱\n",
    "b = \"Hello Python\"\n",
    "print(b[0])\n",
    "print(b[0:5])\n",
    "print(b[2:4])\n",
    "\n",
    "print()\n",
    "\n",
    "# 문자열 거꾸로 슬라이싱\n",
    "c = \"Hello Python\"\n",
    "print(c[0:-7])\n",
    "print(c[-11:-8])"
   ]
  },
  {
   "cell_type": "markdown",
   "metadata": {},
   "source": [
    "---\n",
    "## 2. 반복문에 적용"
   ]
  },
  {
   "cell_type": "code",
   "execution_count": 2,
   "metadata": {},
   "outputs": [
    {
     "name": "stdout",
     "output_type": "stream",
     "text": [
      "A\n",
      "B\n",
      "C\n",
      "\n",
      "[0] -> [A]\n",
      "[1] -> [B]\n",
      "[2] -> [C]\n",
      "\n"
     ]
    }
   ],
   "source": [
    "# 문자열 반복문에 적용\n",
    "str = \"ABC\"\n",
    "for x in str : \n",
    "    print(x)\n",
    "    \n",
    "print()\n",
    "\n",
    "# 문자열 인덱스로 접근\n",
    "for i in range(0,3,1):\n",
    "    print(\"[%d] -> [%s]\"%(i, str[i]))\n",
    "    \n",
    "print()"
   ]
  },
  {
   "cell_type": "markdown",
   "metadata": {},
   "source": [
    "---\n",
    "### 심화 : Iterable vs Iterator\n",
    "\n",
    "##### iterable\n",
    "\n",
    "- member를 하나씩 차례로 반환 가능한 object.\n",
    "- 대표적으로 iterable한 타입 : list, dict, set, str, bytes, tuple, range\n",
    "\n",
    "```python\n",
    "for x in range(5):\n",
    "    print(x)\n",
    "\n",
    "```\n",
    "`range()` 함수로 생성된 `list`가 `iterable` 하기 때문에 `for`문이 `memeber`들을 불러 사용 가능.\n",
    "\n",
    "##### iterator\n",
    "\n",
    "- `next()` 메소드로 데이터를 순차적으로 호출 가능한 object.\n",
    "- 만약 `next()`로 다음 데이터를 불러 올 수 없는 경우(가장 마지막 데이터인 경우), **StopIteration exception**을 발생시킨다.\n",
    "- **iterable한 Object는 반드시 iteratorr가 아니다.**\n",
    "\n",
    "```python\n",
    "x = [1,2,3]\n",
    "type(x)\n",
    "y = iter(x)\n",
    "type(y)\n",
    "```\n",
    "\n",
    "- list는 iterable이지만, `next()`메소드로 호출해도 동작하지 않음.\n",
    "- `iter()`메소드를 통해 listiterator 타입으로 변경하면 된다."
   ]
  },
  {
   "cell_type": "markdown",
   "metadata": {},
   "source": [
    "---\n",
    "### 스스로 풀어보기"
   ]
  },
  {
   "cell_type": "markdown",
   "metadata": {},
   "source": [
    "#### \"Hello Python\"에서 \"Python\" 갖고오기"
   ]
  },
  {
   "cell_type": "code",
   "execution_count": 3,
   "metadata": {},
   "outputs": [
    {
     "name": "stdout",
     "output_type": "stream",
     "text": [
      "Python\n"
     ]
    }
   ],
   "source": [
    "str = \"Hello Python\"\n",
    "\n",
    "print(str[6:])"
   ]
  },
  {
   "cell_type": "markdown",
   "metadata": {},
   "source": [
    "#### \"AI 및 데이터 분석 기초\"에서 \"데이터 분석\" 갖고오기"
   ]
  },
  {
   "cell_type": "code",
   "execution_count": 4,
   "metadata": {},
   "outputs": [
    {
     "name": "stdout",
     "output_type": "stream",
     "text": [
      "데이터 분석\n"
     ]
    }
   ],
   "source": [
    "str = \"AI 및 데이터 분석 기초\"\n",
    "\n",
    "print(str[5:11])"
   ]
  },
  {
   "cell_type": "markdown",
   "metadata": {},
   "source": [
    "#### \"2019.09.01\"에서 \"09\" 갖고오기"
   ]
  },
  {
   "cell_type": "code",
   "execution_count": 5,
   "metadata": {},
   "outputs": [
    {
     "name": "stdout",
     "output_type": "stream",
     "text": [
      "09\n"
     ]
    }
   ],
   "source": [
    "str = \"2019.09.01\"\n",
    "\n",
    "print(str[-5:-3])"
   ]
  },
  {
   "cell_type": "markdown",
   "metadata": {},
   "source": [
    "---\n",
    "### 3. 문자열 다루기\n",
    "\n",
    "#### 문자열 분리\n",
    "- `split()`함수 : 구분자(sep) 기분으로 문자열을 분리해 `list`로 반환.\n",
    "- 구분자 ','를 입력하지 않을 경우, 문자열 사이의 모든 공백과 개행문자(\\n)을 없애고 분리\n",
    "```python\n",
    "coffee_bean = \"아이스 아메리카노, 아이스 라떼\"\n",
    "coffee_bean.split(',')\n",
    "```\n",
    "- 문자열을 구분자를 기준으로 지정한 횟수만큼만 분리\n",
    "```python\n",
    "\"에스프레소 아메리카노 카페라테 카푸치노\".split(maxsplit=2)\n",
    "```\n",
    "\n",
    "#### 문자열 삭제\n",
    "- `strip()`함수 : 문자열 앞 뒤에서 시작하여 지정한 문자외의 다른문자를 만날 때 까지 지정한 모든 문자 삭제.\n",
    "```python\n",
    "\"aaapythonaaa\".strip('a')\n",
    "```\n",
    "```python\n",
    "\"\\n This is very \\nfast. \\n\\n\".strip()\n",
    "```\n",
    "- `lstrip`, `rstrip`\n",
    "```python\n",
    "str_lr=\"000Python is easy to learn.000\"\n",
    "print(str_lr.strip('0'))\n",
    "print(str_lr.lstrip('0'))\n",
    "print(str_lr.rstrip('0'))\n",
    "```\n",
    "\n",
    "#### 문자열 연결\n",
    "- `join()`함수 : 시퀀스(seq)의 항목 사이에 구분자 문자열(str)을 모두 넣은 후 문자열 반환.\n",
    "``` python\n",
    "address_list = [\"서울시\",\"관악구\",\"낙성대역\",]\n",
    "a= \" \"\n",
    "a.join(address_list)\n",
    "```\n",
    "\n",
    "#### 문자열 찾기\n",
    "- `find()` : 문자열(str)에서 찾으려는 검색 문자열(search_str)과 첫 번째로 일치하는 문자열의 위치(index)값 반환.\n",
    "- 없으면 -1 반환.\n",
    "```python\n",
    "str_f = \"Python is easy to learn\"\n",
    "print(\"찾는 문자열의 위치 :\", str_f.find(\"is\"))\n",
    "```\n",
    "\n",
    "- `count(search_str, start_index, end_index)`함수 : 문자열 일치 횟수 반환.\n",
    "```python\n",
    "str_c = \"Python is easy, Python is open, Python is powerful\"\n",
    "print(\"Python의 개수는?\", str_c.count(\"Python\"))\n",
    "```\n",
    "\n",
    "#### 문자열 바꾸기\n",
    "- `replace(old, new, count)` : 문자열에서 지정한 문자열을 찾아서 새로운 문자열로 횟수 만큼 바꿈.\n",
    "```python\n",
    "str_a = \"Python is fast. Python is friendly. Python is open.\"\n",
    "print(str_a.replace(\"Python\", \"C++\", 2)\n",
    "```"
   ]
  }
 ],
 "metadata": {
  "kernelspec": {
   "display_name": "Python 3",
   "language": "python",
   "name": "python3"
  },
  "language_info": {
   "codemirror_mode": {
    "name": "ipython",
    "version": 3
   },
   "file_extension": ".py",
   "mimetype": "text/x-python",
   "name": "python",
   "nbconvert_exporter": "python",
   "pygments_lexer": "ipython3",
   "version": "3.8.3"
  }
 },
 "nbformat": 4,
 "nbformat_minor": 4
}
