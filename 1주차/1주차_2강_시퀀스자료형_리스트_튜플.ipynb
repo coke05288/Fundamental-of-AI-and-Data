{
 "cells": [
  {
   "cell_type": "markdown",
   "metadata": {},
   "source": [
    "## 시퀀스 자료형(Sequence Types)\n",
    "\n",
    "연속적으로 이어진 여러 값을 저장하는 기법.\n",
    "\n",
    "1. 문자열\n",
    "```python\n",
    "a = \"Hello\"\n",
    "```\n",
    "\n",
    "2. 리스트\n",
    "```python\n",
    "a = [0, 10, 20, 30, 40, 50]\n",
    "```\n",
    "\n",
    "3. 튜플\n",
    "```python\n",
    "a = (38, 42, 13, 19, 62)\n",
    "```"
   ]
  },
  {
   "cell_type": "markdown",
   "metadata": {},
   "source": [
    "---\n",
    "## 1. 리스트\n",
    "- 하나의 변수에 여러개의 데이터를 저장하는 자료형\n",
    "- 숫자, 문자열, 불, 리스트 등 타입이 같지 않아도 된다.(혼합 리스트)"
   ]
  },
  {
   "cell_type": "code",
   "execution_count": 1,
   "metadata": {},
   "outputs": [
    {
     "name": "stdout",
     "output_type": "stream",
     "text": [
      "[0, 1, 2, 3, 4, 5, 6, 7, 8, 9]\n",
      "[5, 6, 7, 8, 9, 10, 11]\n",
      "[-4, -2, 0, 2, 4, 6, 8]\n"
     ]
    },
    {
     "data": {
      "text/plain": [
       "range"
      ]
     },
     "execution_count": 1,
     "metadata": {},
     "output_type": "execute_result"
    }
   ],
   "source": [
    "# 리스트 생성\n",
    "student1 = [90, 95, 85, 80]\n",
    "\n",
    "#range()를 사용하여 리스트 만들기\n",
    "a = list(range(10))\n",
    "b = list(range(5,12))\n",
    "c = list(range(-4, 10, 2))\n",
    "d = range(10)\n",
    "\n",
    "print(a)\n",
    "print(b)\n",
    "print(c)\n",
    "type(d)"
   ]
  },
  {
   "cell_type": "markdown",
   "metadata": {},
   "source": [
    "#### 리스트 특정 항목 변경하기\n",
    "\n",
    "- 변수명[index] new_data\n",
    "```python\n",
    "student[90, 94, 82, 40]\n",
    "student[1] = 100\n",
    "print(student)\n",
    "```\n",
    "\n",
    "#### 리스트 문자열 입력\n",
    "\n",
    "```python\n",
    "myfriends['yj', 'jh', 'hl', 'jw']\n",
    "```"
   ]
  },
  {
   "cell_type": "markdown",
   "metadata": {},
   "source": [
    "---\n",
    "## 2. 리스트 다루기"
   ]
  },
  {
   "cell_type": "code",
   "execution_count": 2,
   "metadata": {},
   "outputs": [
    {
     "name": "stdout",
     "output_type": "stream",
     "text": [
      "[1, 2, 3, 4, 5, 6, 7, 8]\n",
      "\n",
      "[1, 2, 3, 4, 1, 2, 3, 4, 1, 2, 3, 4]\n",
      "\n",
      "[0, 10, 20, 30]\n",
      "[0, 20, 40]\n",
      "\n",
      "[0, 10, 20, 30, 40, 50]\n",
      "\n"
     ]
    }
   ],
   "source": [
    "# 더하기\n",
    "list_con1 = [1,2,3,4]\n",
    "list_con2  = [5,6,7,8]\n",
    "list_con = list_con1 + list_con2\n",
    "print(list_con)\n",
    "\n",
    "print()\n",
    "\n",
    "# 곱하기\n",
    "list_con1 = [1,2,3,4]\n",
    "list_con = list_con1 * 3\n",
    "print(list_con)\n",
    "\n",
    "print()\n",
    "\n",
    "# 리스트 일부 가져오기(슬라이싱)\n",
    "a = [0, 10, 20, 30, 40, 50]\n",
    "print(a[0:4])\n",
    "print(a[0:5:2])\n",
    "\n",
    "print()\n",
    "\n",
    "# len() 함수 응용\n",
    "print(a[0:len(a)])\n",
    "\n",
    "print()"
   ]
  },
  {
   "cell_type": "markdown",
   "metadata": {},
   "source": [
    "## 3. 리스트 함수 활용\n",
    "- 리스트명.함수명()\n",
    "\n",
    "#### append()\n",
    "- 리스트에서 항목 하나를 맨 마지막에 추가.\n",
    "```python\n",
    "myFriends.append('YJ')\n",
    "```\n",
    "\n",
    "#### insert()\n",
    "- 리스트에서 특정 위치에 항목을 삽입\n",
    "```python\n",
    "myFriends.insert(2, 'YJ')\n",
    "```\n",
    "\n",
    "#### extend()\n",
    "- 리스트에서 항목 여러개를 맨 마지막에 추가\n",
    "```python\n",
    "myFriends.extend(['뭘봐', '유유'])\n",
    "```\n",
    "\n",
    "#### remove()\n",
    "- 입력값과 첫 번째로 일치하는 항목을 리스트에서 삭제\n",
    "```python\n",
    "myFriends.remove('YJ')\n",
    "```\n",
    "\n",
    "#### pop()\n",
    "- 리스트의 마지막 항목을 제거한 후에 반환.\n",
    "```python\n",
    "popFriend = myFriends.pop()\n",
    "```\n",
    "\n",
    "#### index()\n",
    "- 리스트에서 인자와 일치하는 첫 번째 항목의 위치를 반환\n",
    "```python\n",
    "indexFriend = myFriends.index(\"YJ\")\n",
    "```\n",
    "\n",
    "#### count()\n",
    "- 리스트에서 인자와 일치하는 첫 번째 항목의 개수를 반환\n",
    "```python\n",
    "countFriend = myFriends.count(\"YJ\")\n",
    "```\n",
    "\n",
    "#### sort()\n",
    "- 숫자나 문자열로 구성된 리스트 항목을 순방향으로 정렬\n",
    "```python\n",
    "myFriends.sort()\n",
    "```\n",
    "\n",
    "#### reverse()\n",
    "- 리스트 항목을 끝에서부터 역순으로 정렬\n",
    "```python\n",
    "myFriends.reverse()\n",
    "```\n",
    "\n",
    "#### clear()\n",
    "- 리스트의 내용을 모두 지움\n",
    "```python\n",
    "myFriends.clear()\n",
    "```"
   ]
  },
  {
   "cell_type": "markdown",
   "metadata": {},
   "source": [
    "## 4. 튜플\n",
    "- 리스트와 유사하게 데이터 여러개를 하나로 묶는데 이용.\n",
    "- 한번 입력하면 그 이후에는 항목을 변경할 수 없다.\n",
    "\n",
    "```py\n",
    "tuple1 = (1,2,3,4)\n",
    "a = ()\n",
    "a = tuple()\n",
    "\n",
    "print(tuple1)\n",
    "```\n",
    "\n",
    "- 인자가 하나만 있는 튜플 생성, 반드시 콤마가 필요.\n",
    "```py\n",
    "tuple2 = (9.)\n",
    "```\n",
    "\n",
    "- range를 사용하여 튜플만들기\n",
    "```py\n",
    "a = tuple(range(10))\n",
    "```"
   ]
  },
  {
   "cell_type": "markdown",
   "metadata": {},
   "source": [
    "## 5. 튜플 다루기\n",
    "- 한 번 생성한 후에 요소를 변경할 필요가 없거나 변경할 수 없도록 할 때 이용.\n",
    "\n",
    "#### 튜플에서 함수 사용\n",
    "- index()\n",
    "```py\n",
    "tuple_t = (1,2,3,4,5)\n",
    "tuple_t.index(2)\n",
    "```\n",
    "- count()\n",
    "```py\n",
    "tuple_t = (1,1,1,4,5)\n",
    "tuple_t.count(2)\n",
    "```"
   ]
  }
 ],
 "metadata": {
  "kernelspec": {
   "display_name": "Python 3",
   "language": "python",
   "name": "python3"
  },
  "language_info": {
   "codemirror_mode": {
    "name": "ipython",
    "version": 3
   },
   "file_extension": ".py",
   "mimetype": "text/x-python",
   "name": "python",
   "nbconvert_exporter": "python",
   "pygments_lexer": "ipython3",
   "version": "3.8.3"
  }
 },
 "nbformat": 4,
 "nbformat_minor": 4
}
