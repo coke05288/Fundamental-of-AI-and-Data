{
 "cells": [
  {
   "cell_type": "markdown",
   "metadata": {},
   "source": [
    "## TensorFlow 라이브러리\n",
    "\n",
    "- 대표적인 딥러닝 라이브러리\n",
    "- caffe, pytorch 등 다양하다.\n",
    "\n",
    "## Keras 라이브러리\n",
    "\n",
    "- 딥러닝 모델을 쉽게 구현하도록 해주는 딥러닝 상위 레벨 라이브러리\n",
    "- Keras가 구동되려면 TensorFlow가 설치되어 있어야 함. (TensorFlow 2.0부터 내장되어있음.)"
   ]
  },
  {
   "cell_type": "code",
   "execution_count": 1,
   "metadata": {},
   "outputs": [],
   "source": [
    "import tensorflow as tf"
   ]
  },
  {
   "cell_type": "code",
   "execution_count": 2,
   "metadata": {},
   "outputs": [],
   "source": [
    "import keras"
   ]
  },
  {
   "cell_type": "markdown",
   "metadata": {},
   "source": [
    "---\n",
    "\n",
    "## 폐암 수술 환자의 생존율 예측"
   ]
  },
  {
   "cell_type": "code",
   "execution_count": 3,
   "metadata": {},
   "outputs": [
    {
     "data": {
      "text/plain": [
       "array([[293.  ,   1.  ,   3.8 , ...,   0.  ,  62.  ,   0.  ],\n",
       "       [  1.  ,   2.  ,   2.88, ...,   0.  ,  60.  ,   0.  ],\n",
       "       [  8.  ,   2.  ,   3.19, ...,   0.  ,  66.  ,   1.  ],\n",
       "       ...,\n",
       "       [406.  ,   6.  ,   5.36, ...,   0.  ,  62.  ,   0.  ],\n",
       "       [ 25.  ,   8.  ,   4.32, ...,   0.  ,  58.  ,   1.  ],\n",
       "       [447.  ,   8.  ,   5.2 , ...,   0.  ,  49.  ,   0.  ]])"
      ]
     },
     "execution_count": 3,
     "metadata": {},
     "output_type": "execute_result"
    }
   ],
   "source": [
    "import pandas as pd\n",
    "import numpy as np\n",
    "\n",
    "df = pd.read_csv('./thoraric_surgery.csv')\n",
    "data_set = df.values\n",
    "data_set"
   ]
  },
  {
   "cell_type": "code",
   "execution_count": 4,
   "metadata": {},
   "outputs": [],
   "source": [
    "from sklearn.model_selection import train_test_split\n",
    "\n",
    "train, test = train_test_split(data_set, test_size = 0.2)\n",
    "\n",
    "# train[행, 열] -> train[:, 0:17] => 모든행, 0 - 17 열 슬라이싱\n",
    "X_train = train[:, 0:17]\n",
    "Y_train = train[:, 17]\n",
    "\n",
    "X_test = test[:, 0:17]\n",
    "Y_test = test[:, 17]"
   ]
  },
  {
   "cell_type": "markdown",
   "metadata": {},
   "source": [
    "### 딥러닝 구조 : 입력층, 은닉층, 출력층 설정하기\n",
    "- `Sequential()`로 딥러닝 구조의 모델 객체를 생성\n",
    "- `add()` 메서드로 층을 추가\n",
    "- 각각의 층은 `Dense()` 객체를 통해 구체적인 구조가 결정됨.\n",
    "    - Keras는 입력층을 따로 만들지 않고 첫 번째 Dense가 은닉층 + 입력층의 역할을 겸함\n",
    "    - 인수 : 각 층의 노드수, input_dim = 입력 값 수, activation = 사용할 활성화 함수"
   ]
  },
  {
   "cell_type": "code",
   "execution_count": 5,
   "metadata": {},
   "outputs": [],
   "source": [
    "from keras.models import Sequential\n",
    "from keras.layers import Dense\n",
    "\n",
    "# 딥러닝 구조 모델인 Sequential 객체, model 생성.\n",
    "model = Sequential()\n",
    "# 2개의 층을 추가\n",
    "model.add(Dense(30, input_dim = 17, activation = 'relu'))\n",
    "model.add(Dense(1, activation = 'sigmoid'))"
   ]
  },
  {
   "cell_type": "markdown",
   "metadata": {},
   "source": [
    "<img src = \"./example_img.png\">"
   ]
  },
  {
   "cell_type": "markdown",
   "metadata": {},
   "source": [
    "### 모델 컴파일 하기 : complile() 메소드\n",
    "\n",
    "모델을 더 효과적으로 구현할 학습 환경을 설정하여 완성\n",
    "\n",
    "- loss = 한 번 신경망이 실행될 때마다 오차 값을 추적하는 함수.\n",
    "- optimizer = 오차를 어떻게 줄여 나갈지 정하는 함수.\n",
    "- metrics = 학습과 테스트 단계에서 모델을 평가하기 위한 성능 기준을 설정.\n",
    "\n",
    "<img src =\"model_compile.png\">\n"
   ]
  },
  {
   "cell_type": "code",
   "execution_count": 6,
   "metadata": {},
   "outputs": [],
   "source": [
    "model.compile(loss = 'mean_squared_error', optimizer = 'adam', metrics = ['accuracy'])"
   ]
  },
  {
   "cell_type": "markdown",
   "metadata": {},
   "source": [
    "### 모델 실행하기\n",
    "\n",
    "`fit()` 메소드 : 학습 데이터를 가지고 학습\n",
    "\n",
    "- epochs(에포크) = 각 샘플(데이터에서 한 행)을 반복하여 실행하는 함수.\n",
    "- batch_size = 샘플을 한 번에 처리하는 개수"
   ]
  },
  {
   "cell_type": "code",
   "execution_count": 7,
   "metadata": {},
   "outputs": [
    {
     "name": "stdout",
     "output_type": "stream",
     "text": [
      "Epoch 1/30\n",
      "38/38 [==============================] - 0s 472us/step - loss: 0.1554 - accuracy: 0.8351\n",
      "Epoch 2/30\n",
      "38/38 [==============================] - 0s 446us/step - loss: 0.1425 - accuracy: 0.8564\n",
      "Epoch 3/30\n",
      "38/38 [==============================] - 0s 472us/step - loss: 0.1430 - accuracy: 0.8511\n",
      "Epoch 4/30\n",
      "38/38 [==============================] - 0s 472us/step - loss: 0.1429 - accuracy: 0.8537\n",
      "Epoch 5/30\n",
      "38/38 [==============================] - 0s 446us/step - loss: 0.1420 - accuracy: 0.8537\n",
      "Epoch 6/30\n",
      "38/38 [==============================] - 0s 472us/step - loss: 0.1424 - accuracy: 0.8511\n",
      "Epoch 7/30\n",
      "38/38 [==============================] - 0s 446us/step - loss: 0.1418 - accuracy: 0.8511\n",
      "Epoch 8/30\n",
      "38/38 [==============================] - 0s 446us/step - loss: 0.1425 - accuracy: 0.8564\n",
      "Epoch 9/30\n",
      "38/38 [==============================] - 0s 446us/step - loss: 0.1443 - accuracy: 0.8537\n",
      "Epoch 10/30\n",
      "38/38 [==============================] - 0s 472us/step - loss: 0.1414 - accuracy: 0.8564\n",
      "Epoch 11/30\n",
      "38/38 [==============================] - 0s 446us/step - loss: 0.1420 - accuracy: 0.8537\n",
      "Epoch 12/30\n",
      "38/38 [==============================] - 0s 472us/step - loss: 0.1415 - accuracy: 0.8564\n",
      "Epoch 13/30\n",
      "38/38 [==============================] - 0s 499us/step - loss: 0.1430 - accuracy: 0.8484\n",
      "Epoch 14/30\n",
      "38/38 [==============================] - 0s 472us/step - loss: 0.1406 - accuracy: 0.8537\n",
      "Epoch 15/30\n",
      "38/38 [==============================] - 0s 472us/step - loss: 0.1429 - accuracy: 0.8564\n",
      "Epoch 16/30\n",
      "38/38 [==============================] - 0s 446us/step - loss: 0.1402 - accuracy: 0.8564\n",
      "Epoch 17/30\n",
      "38/38 [==============================] - 0s 446us/step - loss: 0.1416 - accuracy: 0.8511\n",
      "Epoch 18/30\n",
      "38/38 [==============================] - 0s 446us/step - loss: 0.1407 - accuracy: 0.8537\n",
      "Epoch 19/30\n",
      "38/38 [==============================] - 0s 499us/step - loss: 0.1405 - accuracy: 0.8590\n",
      "Epoch 20/30\n",
      "38/38 [==============================] - 0s 541us/step - loss: 0.1404 - accuracy: 0.8537\n",
      "Epoch 21/30\n",
      "38/38 [==============================] - 0s 499us/step - loss: 0.1411 - accuracy: 0.8537\n",
      "Epoch 22/30\n",
      "38/38 [==============================] - 0s 525us/step - loss: 0.1399 - accuracy: 0.8564\n",
      "Epoch 23/30\n",
      "38/38 [==============================] - 0s 472us/step - loss: 0.1401 - accuracy: 0.8564\n",
      "Epoch 24/30\n",
      "38/38 [==============================] - 0s 472us/step - loss: 0.1389 - accuracy: 0.8617\n",
      "Epoch 25/30\n",
      "38/38 [==============================] - 0s 472us/step - loss: 0.1398 - accuracy: 0.8590\n",
      "Epoch 26/30\n",
      "38/38 [==============================] - 0s 472us/step - loss: 0.1414 - accuracy: 0.8511\n",
      "Epoch 27/30\n",
      "38/38 [==============================] - 0s 499us/step - loss: 0.1401 - accuracy: 0.8564\n",
      "Epoch 28/30\n",
      "38/38 [==============================] - 0s 525us/step - loss: 0.1397 - accuracy: 0.8537\n",
      "Epoch 29/30\n",
      "38/38 [==============================] - 0s 472us/step - loss: 0.1382 - accuracy: 0.8617\n",
      "Epoch 30/30\n",
      "38/38 [==============================] - 0s 656us/step - loss: 0.1354 - accuracy: 0.8644\n"
     ]
    },
    {
     "data": {
      "text/plain": [
       "<tensorflow.python.keras.callbacks.History at 0x2a46c7c5df0>"
      ]
     },
     "execution_count": 7,
     "metadata": {},
     "output_type": "execute_result"
    }
   ],
   "source": [
    "model.fit(X_train, Y_train, epochs = 30, batch_size = 10)"
   ]
  },
  {
   "cell_type": "markdown",
   "metadata": {},
   "source": [
    "### 모델 평가 및 사용\n",
    "\n",
    "`evaluate()` 메소드 : 생성한 딥러닝 모델의 정확도 점검"
   ]
  },
  {
   "cell_type": "code",
   "execution_count": 8,
   "metadata": {},
   "outputs": [
    {
     "name": "stdout",
     "output_type": "stream",
     "text": [
      "3/3 [==============================] - 0s 665us/step - loss: 0.1813 - accuracy: 0.8191\n"
     ]
    },
    {
     "data": {
      "text/plain": [
       "[0.181261345744133, 0.8191489577293396]"
      ]
     },
     "execution_count": 8,
     "metadata": {},
     "output_type": "execute_result"
    }
   ],
   "source": [
    "model.evaluate(X_test, Y_test)"
   ]
  },
  {
   "cell_type": "markdown",
   "metadata": {},
   "source": [
    "`predict_classes()` 메소드 : 생성한 딥러닝 모델을 이용하여 예측"
   ]
  },
  {
   "cell_type": "code",
   "execution_count": 9,
   "metadata": {},
   "outputs": [
    {
     "name": "stdout",
     "output_type": "stream",
     "text": [
      "WARNING:tensorflow:From <ipython-input-9-0757f869701a>:3: Sequential.predict_classes (from tensorflow.python.keras.engine.sequential) is deprecated and will be removed after 2021-01-01.\n",
      "Instructions for updating:\n",
      "Please use instead:* `np.argmax(model.predict(x), axis=-1)`,   if your model does multi-class classification   (e.g. if it uses a `softmax` last-layer activation).* `(model.predict(x) > 0.5).astype(\"int32\")`,   if your model does binary classification   (e.g. if it uses a `sigmoid` last-layer activation).\n",
      "Accuracy :  0.8191489361702128\n"
     ]
    },
    {
     "data": {
      "text/html": [
       "<div>\n",
       "<style scoped>\n",
       "    .dataframe tbody tr th:only-of-type {\n",
       "        vertical-align: middle;\n",
       "    }\n",
       "\n",
       "    .dataframe tbody tr th {\n",
       "        vertical-align: top;\n",
       "    }\n",
       "\n",
       "    .dataframe thead th {\n",
       "        text-align: right;\n",
       "    }\n",
       "</style>\n",
       "<table border=\"1\" class=\"dataframe\">\n",
       "  <thead>\n",
       "    <tr style=\"text-align: right;\">\n",
       "      <th></th>\n",
       "      <th>Prediction</th>\n",
       "      <th>Ground-Truth:</th>\n",
       "    </tr>\n",
       "  </thead>\n",
       "  <tbody>\n",
       "    <tr>\n",
       "      <th>0</th>\n",
       "      <td>0</td>\n",
       "      <td>0</td>\n",
       "    </tr>\n",
       "    <tr>\n",
       "      <th>1</th>\n",
       "      <td>0</td>\n",
       "      <td>0</td>\n",
       "    </tr>\n",
       "    <tr>\n",
       "      <th>2</th>\n",
       "      <td>0</td>\n",
       "      <td>1</td>\n",
       "    </tr>\n",
       "    <tr>\n",
       "      <th>3</th>\n",
       "      <td>0</td>\n",
       "      <td>1</td>\n",
       "    </tr>\n",
       "    <tr>\n",
       "      <th>4</th>\n",
       "      <td>0</td>\n",
       "      <td>0</td>\n",
       "    </tr>\n",
       "    <tr>\n",
       "      <th>...</th>\n",
       "      <td>...</td>\n",
       "      <td>...</td>\n",
       "    </tr>\n",
       "    <tr>\n",
       "      <th>89</th>\n",
       "      <td>0</td>\n",
       "      <td>0</td>\n",
       "    </tr>\n",
       "    <tr>\n",
       "      <th>90</th>\n",
       "      <td>0</td>\n",
       "      <td>0</td>\n",
       "    </tr>\n",
       "    <tr>\n",
       "      <th>91</th>\n",
       "      <td>0</td>\n",
       "      <td>0</td>\n",
       "    </tr>\n",
       "    <tr>\n",
       "      <th>92</th>\n",
       "      <td>0</td>\n",
       "      <td>0</td>\n",
       "    </tr>\n",
       "    <tr>\n",
       "      <th>93</th>\n",
       "      <td>0</td>\n",
       "      <td>1</td>\n",
       "    </tr>\n",
       "  </tbody>\n",
       "</table>\n",
       "<p>94 rows × 2 columns</p>\n",
       "</div>"
      ],
      "text/plain": [
       "    Prediction  Ground-Truth:\n",
       "0            0              0\n",
       "1            0              0\n",
       "2            0              1\n",
       "3            0              1\n",
       "4            0              0\n",
       "..         ...            ...\n",
       "89           0              0\n",
       "90           0              0\n",
       "91           0              0\n",
       "92           0              0\n",
       "93           0              1\n",
       "\n",
       "[94 rows x 2 columns]"
      ]
     },
     "execution_count": 9,
     "metadata": {},
     "output_type": "execute_result"
    }
   ],
   "source": [
    "from sklearn import metrics\n",
    "\n",
    "prediction = model.predict_classes(X_test)\n",
    "ac_score = metrics.accuracy_score(Y_test, prediction)\n",
    "\n",
    "print(\"Accuracy : \", ac_score)\n",
    "comparison = pd.DataFrame({'Prediction':prediction.ravel(), 'Ground-Truth:':Y_test.astype(int)})\n",
    "comparison"
   ]
  },
  {
   "cell_type": "markdown",
   "metadata": {},
   "source": [
    "### TensorFlow 와 Keras를 이용한 딥러닝 순서\n",
    "\n",
    "1. Sequential 모형 클래스 객체 생성\n",
    "2. add 메서드로 레이어 추가.\n",
    "    - 입력단부터 각층은 Dense함수로 추가. Dense(노드개수, input_dim = 입력크기, activation 함수)\n",
    "3. compile 메서드로 모형 완성.\n",
    "    - loss = 비용함수, optimizer = 최적화 알고리즘, metrics = 성능 기준 설정.\n",
    "4. fit 메서드로 학습.\n",
    "    - epoch = 재사용 횟수, batch_size = 배치크기 설정.\n",
    "5. evaluate 메서드로 모델 평가\n",
    "6. predict 메서드로 예측."
   ]
  }
 ],
 "metadata": {
  "kernelspec": {
   "display_name": "Python 3",
   "language": "python",
   "name": "python3"
  },
  "language_info": {
   "codemirror_mode": {
    "name": "ipython",
    "version": 3
   },
   "file_extension": ".py",
   "mimetype": "text/x-python",
   "name": "python",
   "nbconvert_exporter": "python",
   "pygments_lexer": "ipython3",
   "version": "3.8.5"
  }
 },
 "nbformat": 4,
 "nbformat_minor": 4
}
