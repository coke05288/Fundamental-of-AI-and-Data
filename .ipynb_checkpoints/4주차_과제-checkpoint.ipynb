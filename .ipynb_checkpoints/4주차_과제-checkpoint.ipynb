{
 "cells": [
  {
   "cell_type": "code",
   "execution_count": 1,
   "metadata": {},
   "outputs": [
    {
     "data": {
      "text/plain": [
       "['Seoul', 'Pusan', 'Paju']"
      ]
     },
     "execution_count": 1,
     "metadata": {},
     "output_type": "execute_result"
    }
   ],
   "source": [
    "city = \"Seoul, Pusan, Paju\"\n",
    "\n",
    "new_city = city.split(', ')\n",
    "new_city"
   ]
  },
  {
   "cell_type": "code",
   "execution_count": 2,
   "metadata": {},
   "outputs": [
    {
     "data": {
      "text/plain": [
       "'Seoul, Pusan, Paju'"
      ]
     },
     "execution_count": 2,
     "metadata": {},
     "output_type": "execute_result"
    }
   ],
   "source": [
    "new_string = ', '.join(new_city)\n",
    "new_string"
   ]
  },
  {
   "cell_type": "code",
   "execution_count": 3,
   "metadata": {},
   "outputs": [
    {
     "name": "stdout",
     "output_type": "stream",
     "text": [
      "(24, 31, 38, 45, 52)\n"
     ]
    }
   ],
   "source": [
    "num_list = list(range(10, 60, 7))\n",
    "num_tuple = tuple(range(10, 60, 7))\n",
    "\n",
    "print(num_tuple[2:7])"
   ]
  },
  {
   "cell_type": "code",
   "execution_count": 4,
   "metadata": {},
   "outputs": [
    {
     "name": "stdout",
     "output_type": "stream",
     "text": [
      "['James', 'Robert', 'Lisa', 'Mary', 'Laura']\n",
      "['James', 'Robert', 'Lisa', 'Mary', 'Laura', 'Judy', 'Lisa']\n",
      "['James', 'Robert', 'Lisa', 'Anna', 'Mary', 'Laura', 'Judy', 'Lisa']\n"
     ]
    }
   ],
   "source": [
    "# 1번\n",
    "People = ['James', 'Robert', 'Lisa', 'Mary', 'Laura']\n",
    "print(People)\n",
    "\n",
    "# 2번\n",
    "People.append('Judy')\n",
    "People.append('Lisa')\n",
    "print(People)\n",
    "\n",
    "# 3번\n",
    "People.insert(3, 'Anna')\n",
    "print(People)"
   ]
  },
  {
   "cell_type": "code",
   "execution_count": 5,
   "metadata": {},
   "outputs": [
    {
     "name": "stdout",
     "output_type": "stream",
     "text": [
      "['Anna', 'James', 'Judy', 'Laura', 'Lisa', 'Lisa', 'Mary', 'Robert']\n",
      "['Robert', 'Mary', 'Lisa', 'Lisa', 'Laura', 'Judy', 'James', 'Anna']\n"
     ]
    }
   ],
   "source": [
    "# 4번\n",
    "People.sort()\n",
    "print(People)\n",
    "\n",
    "# 5번\n",
    "People.sort(reverse = True)\n",
    "print(People)"
   ]
  },
  {
   "cell_type": "code",
   "execution_count": 6,
   "metadata": {},
   "outputs": [
    {
     "name": "stdout",
     "output_type": "stream",
     "text": [
      "['Robert', 'Mary', 'Lisa', 'Lisa', 'Laura', 'Judy', 'James', 'Anna', 'Lisa']\n",
      "3\n",
      "2\n"
     ]
    }
   ],
   "source": [
    "# 6번\n",
    "People.append('Lisa')\n",
    "print(People)\n",
    "\n",
    "# 7번\n",
    "print(People.count('Lisa'))\n",
    "\n",
    "# 8번\n",
    "print(People.index('Lisa'))"
   ]
  },
  {
   "cell_type": "code",
   "execution_count": 7,
   "metadata": {},
   "outputs": [
    {
     "name": "stdout",
     "output_type": "stream",
     "text": [
      "동물 이름(한글) : 고양이\n",
      "cat\n"
     ]
    }
   ],
   "source": [
    "animal_dict = {\"강아지\" : \"dog\", \"고양이\" : \"cat\", \"새\" : \"bird\", \"코끼리\" : \"elephant\"}\n",
    "\n",
    "animal_name = input(\"동물 이름(한글) : \")\n",
    "\n",
    "print(animal_dict[animal_name])"
   ]
  },
  {
   "cell_type": "code",
   "execution_count": 8,
   "metadata": {},
   "outputs": [
    {
     "name": "stdout",
     "output_type": "stream",
     "text": [
      "합계 점수는 261점 입니다.\n",
      "평균 점수는 87.00점 입니다.\n"
     ]
    }
   ],
   "source": [
    "class Student:\n",
    "    name = ''\n",
    "    korean = 0\n",
    "    english = 0\n",
    "    math = 0\n",
    "    \n",
    "    def __init__(self, k, e, m):\n",
    "        self.korean = k\n",
    "        self.english = e\n",
    "        self.math = m\n",
    "    \n",
    "    def get_sum_point(self):\n",
    "        sum = self.korean + self.english + self.math\n",
    "        print(\"합계 점수는 %d점 입니다.\" % sum)\n",
    "    \n",
    "    def get_aver_point(self):\n",
    "        average = (self.korean + self.english + self.math)/3\n",
    "        print(\"평균 점수는 %.2f점 입니다.\" % average)\n",
    "        \n",
    "std1 = Student(80, 82, 99)\n",
    "std1.get_sum_point()\n",
    "std1.get_aver_point()"
   ]
  },
  {
   "cell_type": "code",
   "execution_count": 9,
   "metadata": {},
   "outputs": [
    {
     "name": "stdout",
     "output_type": "stream",
     "text": [
      "[ 1.  2.  3.  4.  5.  6.  7.  8.  9. 10.]\n"
     ]
    }
   ],
   "source": [
    "import numpy as np\n",
    "\n",
    "a = [1, 2, 3, 4, 5, 6, 7, 8, 9, 10]\n",
    "array1 = np.array(a, dtype = float)\n",
    "print(array1)"
   ]
  },
  {
   "cell_type": "code",
   "execution_count": 10,
   "metadata": {},
   "outputs": [
    {
     "name": "stdout",
     "output_type": "stream",
     "text": [
      "[10 12 14 16 18 20 22 24 26 28 30 32 34 36 38 40 42 44 46 48]\n"
     ]
    }
   ],
   "source": [
    "import numpy as np\n",
    "\n",
    "a = np.arange(10, 50, 2)\n",
    "print(a)"
   ]
  },
  {
   "cell_type": "code",
   "execution_count": 11,
   "metadata": {},
   "outputs": [
    {
     "name": "stdout",
     "output_type": "stream",
     "text": [
      "[[10 12 14 16]\n",
      " [18 20 22 24]\n",
      " [26 28 30 32]\n",
      " [34 36 38 40]\n",
      " [42 44 46 48]]\n"
     ]
    }
   ],
   "source": [
    "aa = np.array(a.reshape(5,4))\n",
    "print(aa)"
   ]
  },
  {
   "cell_type": "code",
   "execution_count": 12,
   "metadata": {},
   "outputs": [
    {
     "name": "stdout",
     "output_type": "stream",
     "text": [
      "[ 20.          28.88888889  37.77777778  46.66666667  55.55555556\n",
      "  64.44444444  73.33333333  82.22222222  91.11111111 100.        ]\n"
     ]
    }
   ],
   "source": [
    "import numpy as np\n",
    "\n",
    "a = np.linspace(20, 100, 10)\n",
    "print(a)"
   ]
  },
  {
   "cell_type": "code",
   "execution_count": 13,
   "metadata": {},
   "outputs": [
    {
     "name": "stdout",
     "output_type": "stream",
     "text": [
      "[[ 1  4  1 17  4]\n",
      " [11  2  4  0  5]\n",
      " [17  4  1 17 19]\n",
      " [19  5 15  5 19]]\n"
     ]
    }
   ],
   "source": [
    "import numpy as np\n",
    "\n",
    "a = np.random.randint(0, 20, size = (4, 5))\n",
    "print(a)"
   ]
  },
  {
   "cell_type": "code",
   "execution_count": 14,
   "metadata": {},
   "outputs": [
    {
     "data": {
      "image/png": "[encoded data removed]",
      "text/plain": [
       "<Figure size 432x288 with 1 Axes>"
      ]
     },
     "metadata": {
      "needs_background": "light"
     },
     "output_type": "display_data"
    }
   ],
   "source": [
    "import numpy as np\n",
    "import matplotlib\n",
    "import matplotlib.pyplot as plt\n",
    "\n",
    "matplotlib.rcParams['font.family'] = 'Malgun Gothic'\n",
    "matplotlib.rcParams['axes.unicode_minus'] = False\n",
    "\n",
    "age = np.arange(10, 101, 10)\n",
    "male = [5200, 5200, 11500, 10800, 10000, 8790, 6370, 3760, 1050, 20]\n",
    "female = [5800, 5400, 10500, 11200, 10000, 10010, 6930, 4040, 1550, 370]\n",
    "\n",
    "barWidth = 3\n",
    "\n",
    "plt.bar(age, male, color = 'b', align = 'edge', width = barWidth)\n",
    "plt.bar(age + barWidth, female, color = 'r', align = 'edge', width = barWidth, tick_label = age)\n",
    "plt.legend(['남', '여'])\n",
    "plt.xlabel('연령')\n",
    "plt.ylabel('인구')\n",
    "plt.title('동작구 상도동의 인구구조')\n",
    "plt.show()"
   ]
  },
  {
   "cell_type": "code",
   "execution_count": null,
   "metadata": {},
   "outputs": [],
   "source": []
  }
 ],
 "metadata": {
  "kernelspec": {
   "display_name": "Python 3",
   "language": "python",
   "name": "python3"
  },
  "language_info": {
   "codemirror_mode": {
    "name": "ipython",
    "version": 3
   },
   "file_extension": ".py",
   "mimetype": "text/x-python",
   "name": "python",
   "nbconvert_exporter": "python",
   "pygments_lexer": "ipython3",
   "version": "3.8.3"
  }
 },
 "nbformat": 4,
 "nbformat_minor": 4
}
