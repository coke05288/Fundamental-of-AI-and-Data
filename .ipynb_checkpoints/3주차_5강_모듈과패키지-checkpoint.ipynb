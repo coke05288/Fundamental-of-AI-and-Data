{
 "cells": [
  {
   "cell_type": "markdown",
   "metadata": {},
   "source": [
    "## 모듈\n",
    "\n",
    "- 어떤 목적을 위하여 누군가 만든 소스코드가 저장된 파일\n",
    "- 다른 소스코드에서도 이 파일의 내용을 불러와 이용가능.\n",
    "- 예 : math 모듈, tutle 모듈\n",
    "\n",
    "```py\n",
    "import math\n",
    "```"
   ]
  },
  {
   "cell_type": "markdown",
   "metadata": {},
   "source": [
    "---\n",
    "#### 모듈을 사용하는 이유\n",
    "- 코드 작성과 관리가 용이해짐\n",
    "- 재사용성이 증가\n",
    "- 공동 작업이 편리\n",
    "\n",
    "#### 모듈에 포함된 함수 사용"
   ]
  },
  {
   "cell_type": "code",
   "execution_count": 1,
   "metadata": {},
   "outputs": [],
   "source": [
    "import turtle as t\n",
    "\n",
    "t.forward(300)\n",
    "t.right(90)"
   ]
  },
  {
   "cell_type": "markdown",
   "metadata": {},
   "source": [
    "#### mycircle 모듈 만들기"
   ]
  },
  {
   "cell_type": "code",
   "execution_count": 2,
   "metadata": {},
   "outputs": [
    {
     "name": "stdout",
     "output_type": "stream",
     "text": [
      "Writing mycircle.py\n"
     ]
    }
   ],
   "source": [
    "%%writefile mycircle.py\n",
    "\n",
    "pi = 3.14\n",
    "        \n",
    "def getCircleArea(r):\n",
    "    result = r * r * pi\n",
    "    print(\"원의 넓이는 %.2f\" % result)\n",
    "    \n",
    "    \n",
    "def getCircleRound(r):\n",
    "    result = pi * r * 2\n",
    "    print(\"원의 둘레는 %.2f\" % result)"
   ]
  },
  {
   "cell_type": "markdown",
   "metadata": {},
   "source": [
    "#### myCircle 모듈 임포트"
   ]
  },
  {
   "cell_type": "code",
   "execution_count": 3,
   "metadata": {},
   "outputs": [
    {
     "name": "stdout",
     "output_type": "stream",
     "text": [
      "원의 넓이는 50.24\n",
      "원의 둘레는 25.12\n"
     ]
    }
   ],
   "source": [
    "import mycircle\n",
    "\n",
    "mycircle.getCircleArea(4)\n",
    "mycircle.getCircleRound(4)"
   ]
  },
  {
   "cell_type": "code",
   "execution_count": 4,
   "metadata": {},
   "outputs": [
    {
     "name": "stdout",
     "output_type": "stream",
     "text": [
      "원의 넓이는 50.24\n",
      "원의 둘레는 25.12\n"
     ]
    }
   ],
   "source": [
    "from mycircle import *\n",
    "\n",
    "getCircleArea(4)\n",
    "getCircleRound(4)"
   ]
  },
  {
   "cell_type": "markdown",
   "metadata": {},
   "source": [
    "## 패키지\n",
    "\n",
    "- 여러 모듈을 체계적으로 모아만든 꾸러미\n",
    "- 모듈을 모아놓은 폴더 형태"
   ]
  },
  {
   "cell_type": "markdown",
   "metadata": {},
   "source": [
    "#### 모듈 만들기"
   ]
  },
  {
   "cell_type": "code",
   "execution_count": 5,
   "metadata": {},
   "outputs": [
    {
     "name": "stderr",
     "output_type": "stream",
     "text": [
      "하위 디렉터리 또는 파일 mypackage이(가) 이미 있습니다.\n"
     ]
    }
   ],
   "source": [
    "%mkdir mypackage"
   ]
  },
  {
   "cell_type": "code",
   "execution_count": 6,
   "metadata": {},
   "outputs": [
    {
     "name": "stdout",
     "output_type": "stream",
     "text": [
      "Overwriting mycircle.py\n"
     ]
    }
   ],
   "source": [
    "%%writefile mycircle.py\n",
    "\n",
    "pi = 3.14\n",
    "        \n",
    "def getCircleArea(r):\n",
    "    result = r * r * pi\n",
    "    print(\"원의 넓이는 %.2f\" % result)\n",
    "    \n",
    "    \n",
    "def getCircleRound(r):\n",
    "    result = pi * r * 2\n",
    "    print(\"원의 둘레는 %.2f\" % result)"
   ]
  },
  {
   "cell_type": "code",
   "execution_count": 2,
   "metadata": {},
   "outputs": [
    {
     "name": "stdout",
     "output_type": "stream",
     "text": [
      "Writing mysquare.py\n"
     ]
    }
   ],
   "source": [
    "%%writefile mysquare.py\n",
    "\n",
    "class Square:\n",
    "    size = 0\n",
    "    \n",
    "    def __init__(self,a):\n",
    "        self.size = a\n",
    "        \n",
    "    def getArea(self):\n",
    "        result = self.size * self.size\n",
    "        print(\"정사각형의 넓이는 : \", result)"
   ]
  },
  {
   "cell_type": "code",
   "execution_count": 3,
   "metadata": {},
   "outputs": [
    {
     "ename": "AttributeError",
     "evalue": "'Square' object has no attribute 'getArea'",
     "output_type": "error",
     "traceback": [
      "\u001b[1;31m---------------------------------------------------------------------------\u001b[0m",
      "\u001b[1;31mAttributeError\u001b[0m                            Traceback (most recent call last)",
      "\u001b[1;32m<ipython-input-3-4b864d159d68>\u001b[0m in \u001b[0;36m<module>\u001b[1;34m\u001b[0m\n\u001b[0;32m      3\u001b[0m \u001b[1;33m\u001b[0m\u001b[0m\n\u001b[0;32m      4\u001b[0m \u001b[0msquare1\u001b[0m \u001b[1;33m=\u001b[0m \u001b[0ms\u001b[0m\u001b[1;33m.\u001b[0m\u001b[0mSquare\u001b[0m\u001b[1;33m(\u001b[0m\u001b[1;36m5\u001b[0m\u001b[1;33m)\u001b[0m\u001b[1;33m\u001b[0m\u001b[1;33m\u001b[0m\u001b[0m\n\u001b[1;32m----> 5\u001b[1;33m \u001b[0msquare1\u001b[0m\u001b[1;33m.\u001b[0m\u001b[0mgetArea\u001b[0m\u001b[1;33m(\u001b[0m\u001b[1;33m)\u001b[0m\u001b[1;33m\u001b[0m\u001b[1;33m\u001b[0m\u001b[0m\n\u001b[0m",
      "\u001b[1;31mAttributeError\u001b[0m: 'Square' object has no attribute 'getArea'"
     ]
    }
   ],
   "source": [
    "import mypackage.mycircle as c\n",
    "import mypackage.mysquare as s\n",
    "\n",
    "square1 = s.Square(5)\n",
    "square1.getArea()"
   ]
  },
  {
   "cell_type": "code",
   "execution_count": null,
   "metadata": {},
   "outputs": [],
   "source": []
  }
 ],
 "metadata": {
  "kernelspec": {
   "display_name": "Python 3",
   "language": "python",
   "name": "python3"
  },
  "language_info": {
   "codemirror_mode": {
    "name": "ipython",
    "version": 3
   },
   "file_extension": ".py",
   "mimetype": "text/x-python",
   "name": "python",
   "nbconvert_exporter": "python",
   "pygments_lexer": "ipython3",
   "version": "3.8.3"
  }
 },
 "nbformat": 4,
 "nbformat_minor": 4
}
