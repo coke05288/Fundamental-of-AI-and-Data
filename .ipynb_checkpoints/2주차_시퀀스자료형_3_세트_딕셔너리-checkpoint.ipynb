{
 "cells": [
  {
   "cell_type": "markdown",
   "metadata": {},
   "source": [
    "## 시퀀스 자료형(Sequence Types)\n",
    "\n",
    "연속적으로 이어진 여러 값을 저장하는 기법.\n",
    "\n",
    "4. 집합(Set)\n",
    "```python\n",
    "a = {1,2,3,4,5}\n",
    "```\n",
    "\n",
    "5. 사전(Dictionary)\n",
    "```python\n",
    "a = {\"이름\":\"YJ\", \"나이\":25}\n",
    "```"
   ]
  },
  {
   "cell_type": "markdown",
   "metadata": {},
   "source": [
    "---\n",
    "## 1. 세트(Set)\n",
    "- 수학의 집합 개념을 구현한 데이터 타입\n",
    "- 데이터의 **순서가 없고** 데이터를 **중복해서 쓸 수 없음.**"
   ]
  },
  {
   "cell_type": "code",
   "execution_count": 2,
   "metadata": {},
   "outputs": [
    {
     "name": "stdout",
     "output_type": "stream",
     "text": [
      "{1, 2, 3}\n"
     ]
    },
    {
     "data": {
      "text/plain": [
       "set"
      ]
     },
     "execution_count": 2,
     "metadata": {},
     "output_type": "execute_result"
    }
   ],
   "source": [
    "# 세트 생성\n",
    "set1 = {1,2,3,3}\n",
    "print(set1)\n",
    "\n",
    "# 빈 세트 만들기 a={} X\n",
    "a = set()\n",
    "type(a)"
   ]
  },
  {
   "cell_type": "markdown",
   "metadata": {},
   "source": [
    "#### 교집합, 합집합, 차집합 함수\n",
    "- 교집합 : intersection()\n",
    "- 합집합 : union()\n",
    "- 차집합 : difference()"
   ]
  },
  {
   "cell_type": "code",
   "execution_count": 29,
   "metadata": {},
   "outputs": [
    {
     "name": "stdout",
     "output_type": "stream",
     "text": [
      "{4, 5}\n",
      "{4, 5}\n",
      "{1, 2, 3, 4, 5, 6, 7, 8, 9, 10}\n",
      "{1, 2, 3, 4, 5, 6, 7, 8, 9, 10}\n",
      "{1, 2, 3}\n",
      "{1, 2, 3}\n"
     ]
    }
   ],
   "source": [
    "A = {1,2,3,4,5}\n",
    "B = {4,5,6,7,8,9,10}\n",
    "\n",
    "# 교집합\n",
    "print(A.intersection(B))\n",
    "print(A&B)\n",
    "\n",
    "# 합집합\n",
    "print(A.union(B))\n",
    "print(A|B)\n",
    "\n",
    "# 차집합\n",
    "print(A.difference(B))\n",
    "print(A-B)"
   ]
  },
  {
   "cell_type": "markdown",
   "metadata": {},
   "source": [
    "#### list(), tuple(), set()을 이용해 서로 변환"
   ]
  },
  {
   "cell_type": "code",
   "execution_count": 32,
   "metadata": {},
   "outputs": [
    {
     "name": "stdout",
     "output_type": "stream",
     "text": [
      "<class 'list'>\n",
      "<class 'tuple'>\n",
      "<class 'set'>\n"
     ]
    }
   ],
   "source": [
    "a = [1,2,3,4,5]\n",
    "print(type(a))\n",
    "\n",
    "b = tuple(a)\n",
    "print(type(b))\n",
    "\n",
    "c = set(a)\n",
    "print(type(c))"
   ]
  },
  {
   "cell_type": "markdown",
   "metadata": {},
   "source": [
    "#### 세트 함수 사용"
   ]
  },
  {
   "cell_type": "code",
   "execution_count": 43,
   "metadata": {},
   "outputs": [
    {
     "name": "stdout",
     "output_type": "stream",
     "text": [
      "{1, 2, 3, 4, 5, 7}\n",
      "{1, 2, 4, 5, 7}\n",
      "{1, 2, 4, 5, 7}\n",
      "{2, 4, 5, 7}\n",
      "set()\n"
     ]
    }
   ],
   "source": [
    "a = {1,2,3,4,5}\n",
    "\n",
    "# 세트에 항목 추가 : add()\n",
    "a.add(7)\n",
    "print(a)\n",
    "\n",
    "# 세트에 특정 항목을 삭제, 없으면 에러 : remove()\n",
    "a. remove(3)\n",
    "print(a)\n",
    "\n",
    "# 세트에서 특정 항목을 삭제, 없으면 그냥 넘어감 : discard()\n",
    "a.discard(8)\n",
    "print(a)\n",
    "\n",
    "# 세트에서 임의의 항목을 삭제하고 해당 항목을 반환 : pop()\n",
    "a.pop()\n",
    "print(a)\n",
    "\n",
    "# 세트에서 모든 항목을 삭제 : clear()\n",
    "a.clear()\n",
    "print(a)"
   ]
  },
  {
   "cell_type": "markdown",
   "metadata": {},
   "source": [
    "---\n",
    "## 2. 딕셔너리(Dictionary)\n",
    "- 구성 : 키 + 값\n",
    "- key : 임의의 지정한 숫자나 문자열\n",
    "- value : 어떤 데이터 타입도 가능."
   ]
  },
  {
   "cell_type": "code",
   "execution_count": 44,
   "metadata": {},
   "outputs": [],
   "source": [
    "dict_name = {}\n",
    "dict_name = dict()\n",
    "dict_name = {\"age\" : 24, \"name\" : \"YM\"}"
   ]
  },
  {
   "cell_type": "markdown",
   "metadata": {},
   "source": [
    "#### 딕셔너리 값 확인\n",
    "- **슬라이싱 불가**"
   ]
  },
  {
   "cell_type": "code",
   "execution_count": 47,
   "metadata": {},
   "outputs": [
    {
     "name": "stdout",
     "output_type": "stream",
     "text": [
      "{'영국': '런던', '프랑스': '파리'}\n",
      "런던\n"
     ]
    }
   ],
   "source": [
    "country_capital = {\"영국\" : \"런던\", \"프랑스\":\"파리\"}\n",
    "print(country_capital)\n",
    "print(country_capital[\"영국\"])"
   ]
  },
  {
   "cell_type": "markdown",
   "metadata": {},
   "source": [
    "#### 딕셔너리 다루기\n",
    "- 데이터 추가\n",
    "```py\n",
    "country_capital[\"독일\":\"베를린\"]\n",
    "```\n",
    "- 데이터 변경\n",
    "```py\n",
    "country_capital[\"프랑스\":\"몽블랑\"]\n",
    "```\n",
    "- 데이터 삭제\n",
    "```py\n",
    "del country_capital[\"프랑스\"]\n",
    "```"
   ]
  },
  {
   "cell_type": "markdown",
   "metadata": {},
   "source": [
    "#### 딕셔너리 함수 사용"
   ]
  },
  {
   "cell_type": "code",
   "execution_count": 1,
   "metadata": {},
   "outputs": [
    {
     "ename": "NameError",
     "evalue": "name 'fruit_code' is not defined",
     "output_type": "error",
     "traceback": [
      "\u001b[1;31m---------------------------------------------------------------------------\u001b[0m",
      "\u001b[1;31mNameError\u001b[0m                                 Traceback (most recent call last)",
      "\u001b[1;32m<ipython-input-1-6ce11fd07653>\u001b[0m in \u001b[0;36m<module>\u001b[1;34m\u001b[0m\n\u001b[0;32m      2\u001b[0m \u001b[1;33m\u001b[0m\u001b[0m\n\u001b[0;32m      3\u001b[0m \u001b[1;31m# 딕셔너리에서 key전체를 리스트 형태로 변환 : key()\u001b[0m\u001b[1;33m\u001b[0m\u001b[1;33m\u001b[0m\u001b[1;33m\u001b[0m\u001b[0m\n\u001b[1;32m----> 4\u001b[1;33m \u001b[0mprint\u001b[0m\u001b[1;33m(\u001b[0m\u001b[0mfruit_code\u001b[0m\u001b[1;33m.\u001b[0m\u001b[0mkeys\u001b[0m\u001b[1;33m(\u001b[0m\u001b[1;33m)\u001b[0m\u001b[1;33m)\u001b[0m\u001b[1;33m\u001b[0m\u001b[1;33m\u001b[0m\u001b[0m\n\u001b[0m\u001b[0;32m      5\u001b[0m \u001b[1;33m\u001b[0m\u001b[0m\n\u001b[0;32m      6\u001b[0m \u001b[1;31m# 딕셔너리에서 값 전체를 리스트 형태로 변환 : values()\u001b[0m\u001b[1;33m\u001b[0m\u001b[1;33m\u001b[0m\u001b[1;33m\u001b[0m\u001b[0m\n",
      "\u001b[1;31mNameError\u001b[0m: name 'fruit_code' is not defined"
     ]
    }
   ],
   "source": [
    "fruit_code = {\"사과\": 101, \"배\":102, \"딸기\":103, \"포도\":104, \"바나나\":105}\n",
    "\n",
    "# 딕셔너리에서 key전체를 리스트 형태로 변환 : key()\n",
    "print(fruit_code.keys())\n",
    "\n",
    "# 딕셔너리에서 값 전체를 리스트 형태로 변환 : values()\n",
    "print(fruit_code.values())\n",
    "\n",
    "# 딕셔너리에서 키와 값의 쌍을 튜플 형태로 반환\n",
    "print(fruit_code.items())\n",
    "\n",
    "# 딕셔너리 데이터 추가\n",
    "fruit_code2 = {\"오렌지\": 106, \"수박\" : 107}\n",
    "fruit_code.update(fruit_code2)\n",
    "print(fruit_code.keys())\n",
    "\n",
    "# 딕셔너리에서 특정 키의 값을 가져옴\n",
    "print(fruit_code.get(\"사과\"))\n",
    "\n",
    "# 딕셔너리에서 특정키-값 쌍을 삭제한 뒤 값을 반환\n",
    "print(fruit_code.pop(\"배\"))\n",
    "print(fruit_code.keys())\n",
    "\n",
    "# 모든 항목 삭제\n",
    "print(fruit_code.clear())"
   ]
  },
  {
   "cell_type": "code",
   "execution_count": null,
   "metadata": {},
   "outputs": [],
   "source": []
  }
 ],
 "metadata": {
  "kernelspec": {
   "display_name": "Python 3",
   "language": "python",
   "name": "python3"
  },
  "language_info": {
   "codemirror_mode": {
    "name": "ipython",
    "version": 3
   },
   "file_extension": ".py",
   "mimetype": "text/x-python",
   "name": "python",
   "nbconvert_exporter": "python",
   "pygments_lexer": "ipython3",
   "version": "3.8.3"
  }
 },
 "nbformat": 4,
 "nbformat_minor": 4
}
