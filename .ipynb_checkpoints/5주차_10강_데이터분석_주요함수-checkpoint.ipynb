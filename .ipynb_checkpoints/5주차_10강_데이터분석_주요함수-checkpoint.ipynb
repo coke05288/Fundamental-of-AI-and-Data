{
 "cells": [
  {
   "cell_type": "markdown",
   "metadata": {},
   "source": [
    "### Pandas 기본 복습\n",
    "\n",
    "```py\n",
    "import pandas as pd\n",
    "```\n",
    "\n",
    "- Series : 인덱싱 기능을 추가한 1차원 배열\n",
    "```py\n",
    "S = pd.Series(시퀀스데이터)\n",
    "S.index\n",
    "S.values\n",
    "S['인덱스이름']\n",
    "S'\n",
    "```\n"
   ]
  },
  {
   "cell_type": "markdown",
   "metadata": {},
   "source": [
    "#### 1차원 배열 생성"
   ]
  },
  {
   "cell_type": "code",
   "execution_count": 1,
   "metadata": {},
   "outputs": [
    {
     "name": "stdout",
     "output_type": "stream",
     "text": [
      "[0 1 2 3 4 5]\n"
     ]
    }
   ],
   "source": [
    "import numpy as np\n",
    "\n",
    "data1 = [0, 1, 2, 3, 4, 5]\n",
    "# arr_obj = np.array(seq_data, dtype = type)\n",
    "a1 = np.array(data1, dtype = int)\n",
    "print(a1)"
   ]
  },
  {
   "cell_type": "code",
   "execution_count": 2,
   "metadata": {},
   "outputs": [
    {
     "name": "stdout",
     "output_type": "stream",
     "text": [
      "[0.1 2.  3.  4.  0.5]\n"
     ]
    }
   ],
   "source": [
    "data2 = [0.1, 2, 3, 4, 0.5]\n",
    "# 정수형과 실수형을 혼합해서 array()에 넣을 경우, 크기가 더 큰 실수형으로 변환.\n",
    "a2 = np.array(data2)\n",
    "print(a2)"
   ]
  },
  {
   "cell_type": "markdown",
   "metadata": {},
   "source": [
    "#### 배열 객체의 데이터 타입 확인"
   ]
  },
  {
   "cell_type": "code",
   "execution_count": 3,
   "metadata": {},
   "outputs": [
    {
     "name": "stdout",
     "output_type": "stream",
     "text": [
      "int32\n"
     ]
    },
    {
     "data": {
      "text/plain": [
       "numpy.ndarray"
      ]
     },
     "execution_count": 3,
     "metadata": {},
     "output_type": "execute_result"
    }
   ],
   "source": [
    "# array 객체 안에는 dtype이라는 멤버 변수가 있음.\n",
    "print(a1.dtype)\n",
    "type(a1)"
   ]
  },
  {
   "cell_type": "markdown",
   "metadata": {},
   "source": [
    "#### 범위를 지정해서 배열 생성"
   ]
  },
  {
   "cell_type": "code",
   "execution_count": 4,
   "metadata": {},
   "outputs": [
    {
     "name": "stdout",
     "output_type": "stream",
     "text": [
      "[0 2 4 6 8]\n",
      "[1 2 3 4 5 6 7 8 9]\n",
      "[0 1 2 3 4]\n"
     ]
    }
   ],
   "source": [
    "a1 = np.arange(0, 10, 2)\n",
    "print(a1)\n",
    "\n",
    "a2 = np.arange(1,10)\n",
    "print(a2)\n",
    "\n",
    "a3 = np.arange(5)\n",
    "print(a3)"
   ]
  },
  {
   "cell_type": "markdown",
   "metadata": {},
   "source": [
    "#### 다차원 배열 생성"
   ]
  },
  {
   "cell_type": "code",
   "execution_count": 14,
   "metadata": {},
   "outputs": [
    {
     "name": "stdout",
     "output_type": "stream",
     "text": [
      "[[1 2 3]\n",
      " [4 5 6]\n",
      " [7 8 9]]\n",
      "[[1 2 3]\n",
      " [4 5 6]\n",
      " [7 8 9]]\n"
     ]
    }
   ],
   "source": [
    "# array()에 인자를 직접 넣어서 다차원 배열 생성\n",
    "a1 = np.array([[1,2,3],[4,5,6],[7,8,9]])\n",
    "print(a1)\n",
    "\n",
    "# arange(), reshape() 사용\n",
    "b1 = np.arange(1,10).reshape(3,3) \n",
    "# arange()로 생성한 배열의 원소 개수와 reshape(m x n)의 m x n의 개수가 일치해야함\n",
    "print(b1)"
   ]
  },
  {
   "cell_type": "markdown",
   "metadata": {},
   "source": [
    "### 범위와 데이터 수를 지정해 배열 생성하기"
   ]
  },
  {
   "cell_type": "markdown",
   "metadata": {},
   "source": [
    "- **범위의 시작과 끝, 데이터의 개수를 지정해 배열 생성**\n",
    "```py\n",
    "arr_obj = np.linspace(start, stop, num)\n",
    "```"
   ]
  },
  {
   "cell_type": "code",
   "execution_count": 17,
   "metadata": {},
   "outputs": [
    {
     "data": {
      "text/plain": [
       "array([ 1.,  2.,  3.,  4.,  5.,  6.,  7.,  8.,  9., 10.])"
      ]
     },
     "execution_count": 17,
     "metadata": {},
     "output_type": "execute_result"
    }
   ],
   "source": [
    "arr1 = np.linspace(1, 10, 10)\n",
    "arr1"
   ]
  },
  {
   "cell_type": "code",
   "execution_count": 18,
   "metadata": {},
   "outputs": [
    {
     "data": {
      "text/plain": [
       "array([0.        , 0.28559933, 0.57119866, 0.856798  , 1.14239733,\n",
       "       1.42799666, 1.71359599, 1.99919533, 2.28479466, 2.57039399,\n",
       "       2.85599332, 3.14159265])"
      ]
     },
     "execution_count": 18,
     "metadata": {},
     "output_type": "execute_result"
    }
   ],
   "source": [
    "arr2 = np.linspace(0, np.pi, 12)"
   ]
  },
  {
   "cell_type": "code",
   "execution_count": 20,
   "metadata": {},
   "outputs": [
    {
     "data": {
      "text/plain": [
       "array([[0.        , 0.28559933, 0.57119866, 0.856798  ],\n",
       "       [1.14239733, 1.42799666, 1.71359599, 1.99919533],\n",
       "       [2.28479466, 2.57039399, 2.85599332, 3.14159265]])"
      ]
     },
     "execution_count": 20,
     "metadata": {},
     "output_type": "execute_result"
    }
   ],
   "source": [
    "arr3 = np.linspace(0, np.pi, 12).reshape(3,4)\n",
    "arr3"
   ]
  },
  {
   "cell_type": "markdown",
   "metadata": {},
   "source": [
    "### 난수 배열 생성하기### 난수 배열 생성하기"
   ]
  },
  {
   "cell_type": "markdown",
   "metadata": {},
   "source": [
    "- low가 생략되면 0, size가 생략되면 1개 난수 생성.\n",
    "```py\n",
    "rand_num = np.random.rand(d0, d1, ..., dn)\n",
    "rand_num = np.random.randint(low, high, size)\n",
    "```"
   ]
  },
  {
   "cell_type": "code",
   "execution_count": 22,
   "metadata": {},
   "outputs": [
    {
     "data": {
      "text/plain": [
       "0.6435548970548745"
      ]
     },
     "execution_count": 22,
     "metadata": {},
     "output_type": "execute_result"
    }
   ],
   "source": [
    "r_num1 = np.random.rand()\n",
    "r_num1"
   ]
  },
  {
   "cell_type": "code",
   "execution_count": 25,
   "metadata": {},
   "outputs": [
    {
     "data": {
      "text/plain": [
       "array([[0.29148728, 0.08936543, 0.76792928],\n",
       "       [0.98685957, 0.16528137, 0.26796331]])"
      ]
     },
     "execution_count": 25,
     "metadata": {},
     "output_type": "execute_result"
    }
   ],
   "source": [
    "r_num2 = np.random.rand(2,3)\n",
    "r_num2"
   ]
  },
  {
   "cell_type": "code",
   "execution_count": 27,
   "metadata": {},
   "outputs": [
    {
     "data": {
      "text/plain": [
       "array([[2, 6, 5, 6],\n",
       "       [2, 4, 5, 2],\n",
       "       [0, 1, 4, 5]])"
      ]
     },
     "execution_count": 27,
     "metadata": {},
     "output_type": "execute_result"
    }
   ],
   "source": [
    "r_num3 = np.random.randint(10, size = (3,4))\n",
    "r_num3"
   ]
  },
  {
   "cell_type": "code",
   "execution_count": 28,
   "metadata": {},
   "outputs": [
    {
     "data": {
      "text/plain": [
       "12"
      ]
     },
     "execution_count": 28,
     "metadata": {},
     "output_type": "execute_result"
    }
   ],
   "source": [
    "r_num4 = np.random.randint(1, 30)\n",
    "r_num4"
   ]
  },
  {
   "cell_type": "markdown",
   "metadata": {},
   "source": [
    "### 배열의 데이터 타입 변환\n",
    "- Numpy 배열의 형변환\n",
    "```py\n",
    "# 배열의 모든 요소를 dtype에 지정한 데이터 타입으로 변환.\n",
    "num_arr = str_arr.astype(dtype)\n",
    "```\n",
    "\n",
    "|기호|설명|\n",
    "|:----:|:----|\n",
    "|'b'|불, bool|\n",
    "|'i'|기호가 있는 정수, (signed) integer|\n",
    "|'u'|기호가 없는 정수, (unsigned) integer|\n",
    "|'f'|실수, floating-point|\n",
    "|'c'|복소수, complex-floating point|\n",
    "|'M'|날짜, datetime|\n",
    "|'O'|파이썬 객체, (python) objects|\n",
    "|'S' 혹은 'a'|바이트 문자열, (byte) string|\n",
    "|'U'|유니코드, Unicode|"
   ]
  },
  {
   "cell_type": "code",
   "execution_count": 32,
   "metadata": {},
   "outputs": [
    {
     "name": "stdout",
     "output_type": "stream",
     "text": [
      "[1.3    1.1231 5.24   3.    ]\n",
      "<U6\n",
      "float32\n"
     ]
    }
   ],
   "source": [
    "a_str = np.array(['1.3', '1.1231', '5.24', '3'])\n",
    "a_num = a_str.astype('f')\n",
    "print(a_num)\n",
    "\n",
    "# <U6 : < - 6보다 작다, U - 유니코드, 6 - 최대 개수\n",
    "print(a_str.dtype)\n",
    "\n",
    "print(a_num.dtype)"
   ]
  },
  {
   "cell_type": "markdown",
   "metadata": {},
   "source": [
    "#### a = [1, 2, 3, 4] 리스트를 float 타입 배열 A를 만들기"
   ]
  },
  {
   "cell_type": "code",
   "execution_count": 33,
   "metadata": {},
   "outputs": [
    {
     "name": "stdout",
     "output_type": "stream",
     "text": [
      "[1 2 3 4]\n"
     ]
    }
   ],
   "source": [
    "import numpy as np\n",
    "\n",
    "a = [1, 2, 3, 4]\n",
    "A = np.array(a, dtype = int)\n",
    "print(A)"
   ]
  },
  {
   "cell_type": "markdown",
   "metadata": {},
   "source": [
    "#### b = [True, False, True] 불타입 리스트를 배열 B로 만들고 정수형으로 출력하기"
   ]
  },
  {
   "cell_type": "code",
   "execution_count": 35,
   "metadata": {},
   "outputs": [
    {
     "name": "stdout",
     "output_type": "stream",
     "text": [
      "[1 0 1]\n"
     ]
    }
   ],
   "source": [
    "import numpy as np\n",
    "\n",
    "b = np.array([True, False, True])\n",
    "B = b.astype('i')\n",
    "print(B)"
   ]
  }
 ],
 "metadata": {
  "kernelspec": {
   "display_name": "Python 3",
   "language": "python",
   "name": "python3"
  },
  "language_info": {
   "codemirror_mode": {
    "name": "ipython",
    "version": 3
   },
   "file_extension": ".py",
   "mimetype": "text/x-python",
   "name": "python",
   "nbconvert_exporter": "python",
   "pygments_lexer": "ipython3",
   "version": "3.8.3"
  }
 },
 "nbformat": 4,
 "nbformat_minor": 4
}
