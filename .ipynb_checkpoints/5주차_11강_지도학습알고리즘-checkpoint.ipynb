{
 "cells": [
  {
   "cell_type": "markdown",
   "metadata": {},
   "source": [
    "## 지도학습 알고리즘\n",
    "\n",
    "학습할 데이터와 명시적인 정답(Label)을 이용해 데이터의 특성과 분포를 학습하여 새로운 데이터에 대해 미래결과를 예측하는 방법\n",
    "\n",
    "- 분류 : K-최근접이웃알고리즘(KNN, K-Nearest Neighbors), SVM, 의사결정트리 등\n",
    "\n",
    "- 회귀 : 선형회귀, 로지스틱 회귀 등\n",
    "\n",
    "---"
   ]
  },
  {
   "cell_type": "markdown",
   "metadata": {},
   "source": [
    "### KNN(K-Nearest Neibhors)\n",
    "\n",
    "- **Neighbors** : 가까이 존재하는 데이터를 의미\n",
    "- 기존 데이터 안에서 **현재 데이터로부터 k개의 데이터**를 찾아 k개의 레이블 중 가장 많이 분류된 값으로 분류하는 알고리즘.\n",
    "- K : 최근접 점(일반적으로 홀수로 정함)\n",
    "\n",
    "#### 최근접점 찾기\n",
    "\n",
    "- 피타고라스의 정리를 이용."
   ]
  },
  {
   "cell_type": "markdown",
   "metadata": {},
   "source": [
    "### SVM(Suport Vector Machine)\n",
    "\n",
    "- 서로 다른 **분류 값을 결정하는 경계선(결정 경계선, Decision Boundary)**을 결정하는 알고리즘\n",
    "- 벡터의 의미 : 2차원 공간 상에 나타난 데이터 포인트\n",
    "- **서포트 벡터** : 결정경계선과 가장 가까이 맞닿은 데이터 포인트\n",
    "- 마진(margin) : 서포트 벡터와 결정 경계 사이의 거리\n",
    "\n",
    "> Goal : Margin을 최대로 하는 Decision Boundary를 찾는 것\n",
    "\n",
    "    -> 마진이 클수록 새로운 데이터에 대해 안정적으로 분류할 가능성이 높음. \n",
    "\n",
    "- N차원의 데이터 벡터공간 : 결정 경계 = N-1차원\n",
    "- **Kernal Trick** : 저차원 벡터 공간 데이터를 고차원 벡터 공간으로 옮김.\n",
    "![kernal-trick](./kernal_trick.jpg)\n",
    "\n",
    "#### 파라미터 최적화   \n",
    " \n",
    "- **Cost**\n",
    "    - 마진 조절 변수 - 비용이 적을 수록 마진 너비가 넓어짐.\n",
    "    - 마진을 크게 할 경우 학습 시 에러율이 높다\n",
    "    \n",
    "- **Gamma**\n",
    "    - 학습 데이터 포인트들이 **결정 경계에 영향을 끼치는 범위**를 조절해주는 변수\n",
    "    - 감마 값이 크면 많은 데이터 포인트들이 가까이 있는 것으로 고려 -> 결정경계가 작아지고 구부러짐\n",
    "     - 감마 값이 작으면 값들이 멀리 분포되어있는 것으로 고려 -> 경계가 완만해짐.\n",
    "\n",
    "![cost-optimization](./cost_optimization.png)"
   ]
  },
  {
   "cell_type": "code",
   "execution_count": null,
   "metadata": {},
   "outputs": [],
   "source": []
  }
 ],
 "metadata": {
  "kernelspec": {
   "display_name": "Python 3",
   "language": "python",
   "name": "python3"
  },
  "language_info": {
   "codemirror_mode": {
    "name": "ipython",
    "version": 3
   },
   "file_extension": ".py",
   "mimetype": "text/x-python",
   "name": "python",
   "nbconvert_exporter": "python",
   "pygments_lexer": "ipython3",
   "version": "3.8.3"
  }
 },
 "nbformat": 4,
 "nbformat_minor": 4
}
