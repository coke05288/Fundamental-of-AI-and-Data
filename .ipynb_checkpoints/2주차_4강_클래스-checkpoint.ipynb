{
 "cells": [
  {
   "cell_type": "markdown",
   "metadata": {},
   "source": [
    "## 객체\n",
    "\n",
    "- 현실세계의 사물, 동물, 사람, 개념 등 \n",
    "- 속성(상태, 특징) -> **변수**\n",
    "- 행위(행동, 동작, 기능)-> **함수**\n",
    "\n",
    "## 클래스\n",
    "\n",
    "- 객체의 공통된 속성과 행위를 변수와 함수로 정의한 것.\n"
   ]
  },
  {
   "cell_type": "markdown",
   "metadata": {},
   "source": [
    "---\n",
    "#### 클래스 선언"
   ]
  },
  {
   "cell_type": "code",
   "execution_count": 31,
   "metadata": {},
   "outputs": [],
   "source": [
    "class Car:\n",
    "    color = \"\"\n",
    "    speed = 0\n",
    "    \n",
    "    def upSpeed(self, value):\n",
    "        self.speed += value\n",
    "        \n",
    "    def downSpeed(self, value):\n",
    "        self.speed -= value\n",
    "        \n",
    "    def stop(self):\n",
    "        self.speed = 0"
   ]
  },
  {
   "cell_type": "markdown",
   "metadata": {},
   "source": [
    "#### 객체 생성 및 활용"
   ]
  },
  {
   "cell_type": "code",
   "execution_count": 32,
   "metadata": {},
   "outputs": [
    {
     "name": "stdout",
     "output_type": "stream",
     "text": [
      "red black\n",
      "20 -10\n"
     ]
    }
   ],
   "source": [
    "myCar1 = Car()\n",
    "myCar2 = Car()\n",
    "\n",
    "myCar1.color = 'red'\n",
    "myCar1.speed = 0\n",
    "myCar2.color = 'black'\n",
    "myCar1.speed = 0\n",
    "\n",
    "print(myCar1.color, myCar2.color)\n",
    "\n",
    "myCar1.upSpeed(20)\n",
    "myCar2.downSpeed(10)\n",
    "\n",
    "print(myCar1.speed, myCar2.speed)"
   ]
  },
  {
   "cell_type": "markdown",
   "metadata": {},
   "source": [
    "#### 객체 초기화\n",
    "- __ init__() : 앞 뒤 언더바가 2개씩 \n",
    "- 클래스의 객체가 생성될 때 자동으로 실행됨"
   ]
  },
  {
   "cell_type": "code",
   "execution_count": 33,
   "metadata": {},
   "outputs": [],
   "source": [
    "class Car:\n",
    "    color = \"\"\n",
    "    speed = 0\n",
    "    \n",
    "    def __init__(self, value1, value2):\n",
    "        self.color = value1\n",
    "        self.speed = value2\n",
    "    \n",
    "    def upSpeed(self, value):\n",
    "        self.speed += value\n",
    "        \n",
    "    def downSpeed(self, value):\n",
    "        self.speed -= value\n",
    "        \n",
    "    def stop(self):\n",
    "        self.speed = 0"
   ]
  },
  {
   "cell_type": "code",
   "execution_count": 34,
   "metadata": {},
   "outputs": [
    {
     "name": "stdout",
     "output_type": "stream",
     "text": [
      "red black\n"
     ]
    }
   ],
   "source": [
    "myCar1 = Car('red', 20)\n",
    "myCar2 = Car('black', 30)\n",
    "\n",
    "print(myCar1.color, myCar2.color)"
   ]
  },
  {
   "cell_type": "markdown",
   "metadata": {},
   "source": [
    "#### 원의 넓이와 둘레를 구하는 클래스"
   ]
  },
  {
   "cell_type": "code",
   "execution_count": 35,
   "metadata": {},
   "outputs": [
    {
     "name": "stdout",
     "output_type": "stream",
     "text": [
      "Circle 객체가 생성 됩니다.\n",
      "Circle 객체가 생성 됩니다.\n",
      "원의 넓이는 78.50\n",
      "원의 둘레는 31.40\n"
     ]
    }
   ],
   "source": [
    "class Circle:\n",
    "    \n",
    "    r = None\n",
    "    \n",
    "    def __init__(self, value):\n",
    "        print(\"Circle 객체가 생성 됩니다.\")\n",
    "        self.r = value\n",
    "        \n",
    "    def setR(self,radius):\n",
    "        self.r = radius\n",
    "        \n",
    "    def getArea(self):\n",
    "        area = self.r**2 * 3.14\n",
    "        print(\"원의 넓이는 %.2f\" % area)\n",
    "    \n",
    "    def getRound(self):\n",
    "        round = 2*self.r*3.14\n",
    "        print(\"원의 둘레는 %.2f\" % round)\n",
    "    \n",
    "myCircle1 = Circle(5)\n",
    "myCircle2 = Circle(10)\n",
    "\n",
    "myCircle1.getArea()\n",
    "myCircle1.getRound()"
   ]
  },
  {
   "cell_type": "markdown",
   "metadata": {},
   "source": [
    "---\n",
    "## 객체지향 언어 파이썬"
   ]
  },
  {
   "cell_type": "markdown",
   "metadata": {},
   "source": [
    "#### int, list 클래스"
   ]
  },
  {
   "cell_type": "code",
   "execution_count": 36,
   "metadata": {},
   "outputs": [],
   "source": [
    "# int 클래스에 10을 넣어서 객체 a 생성\n",
    "a = int(10)\n",
    "\n",
    "# list 클래스에 range(10) 객체 b를 생성\n",
    "b = list(range(10))\n",
    "\n",
    "# 인스턴스 b에서 메서드 append를 호출해서 값을 추가\n",
    "b.append(20)"
   ]
  },
  {
   "cell_type": "markdown",
   "metadata": {},
   "source": [
    "#### tutle 모듈의 Turtle 클래스"
   ]
  },
  {
   "cell_type": "code",
   "execution_count": 37,
   "metadata": {},
   "outputs": [],
   "source": [
    "import turtle\n",
    "\n",
    "# turtle 모듈 내에 정의된 Turtle 클래스를 이용하여 t 라는 객체 생성\n",
    "t = turtle.Turtle()\n",
    "\n",
    "# Turtle 클래스의 멤버 함수들을 호출\n",
    "t.shape(\"turtle\")\n",
    "t.shapesize(3)\n",
    "t.circle(10)"
   ]
  },
  {
   "cell_type": "markdown",
   "metadata": {},
   "source": [
    "#### SoccerPlayer 클래스 만들기"
   ]
  },
  {
   "cell_type": "code",
   "execution_count": 38,
   "metadata": {},
   "outputs": [
    {
     "name": "stdout",
     "output_type": "stream",
     "text": [
      "객체가 생성되었습니다.\n",
      "이름 : 손흥민, 포지션 : 공격수, 등번호 : 7\n",
      "이름 : 이승우, 포지션 : 미드필더, 등번호 : 11\n"
     ]
    }
   ],
   "source": [
    "class SoccerPlayer():\n",
    "    name = \"\"\n",
    "    position = \"\"\n",
    "    back_num = None\n",
    "    \n",
    "    def __init__(self, n, p, b):\n",
    "        print(\"객체가 생성되었습니다.\")\n",
    "        self.name = n\n",
    "        self.position = p\n",
    "        self.back_num = b\n",
    "    \n",
    "    def setName(self, n):\n",
    "        self.name = n\n",
    "    \n",
    "    def setPosition(self, p):\n",
    "        self.position = p\n",
    "        \n",
    "    def setBackNum(self, b):\n",
    "        self.back_num = b\n",
    "        \n",
    "    def getData(self):\n",
    "        print(\"이름 : %s, 포지션 : %s, 등번호 : %d\" % (self.name, self.position, self.back_num))\n",
    "\n",
    "myPlayer = SoccerPlayer(\"손흥민\", \"공격수\", 7)\n",
    "\n",
    "\n",
    "\n",
    "myPlayer.getData()\n",
    "myPlayer.setName(\"이승우\")\n",
    "myPlayer.setPosition(\"미드필더\")\n",
    "myPlayer.setBackNum(11)\n",
    "myPlayer.getData()"
   ]
  }
 ],
 "metadata": {
  "kernelspec": {
   "display_name": "Python 3",
   "language": "python",
   "name": "python3"
  },
  "language_info": {
   "codemirror_mode": {
    "name": "ipython",
    "version": 3
   },
   "file_extension": ".py",
   "mimetype": "text/x-python",
   "name": "python",
   "nbconvert_exporter": "python",
   "pygments_lexer": "ipython3",
   "version": "3.8.3"
  }
 },
 "nbformat": 4,
 "nbformat_minor": 4
}
